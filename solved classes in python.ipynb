{
 "cells": [
  {
   "cell_type": "code",
   "execution_count": 14,
   "id": "a933b853",
   "metadata": {},
   "outputs": [
    {
     "name": "stdout",
     "output_type": "stream",
     "text": [
      "Name: zaha faisal\n",
      "Age: 18\n",
      "City: lahore\n"
     ]
    }
   ],
   "source": [
    "class Person:\n",
    "    def __init__(self, name, age, city):\n",
    "        self.name = name\n",
    "        self.age = age\n",
    "        self.city = city\n",
    "\n",
    "    def display_info(self):\n",
    "        print(f\"Name: {self.name}\")\n",
    "        print(f\"Age: {self.age}\")\n",
    "        print(f\"City: {self.city}\")\n",
    "\n",
    "\n",
    "person1 = Person(\"zaha faisal\", 18, \"lahore\")\n",
    "person1.display_info()"
   ]
  },
  {
   "cell_type": "code",
   "execution_count": 13,
   "id": "964feba3",
   "metadata": {},
   "outputs": [
    {
     "name": "stdout",
     "output_type": "stream",
     "text": [
      "Make: Toyota\n",
      "Model: Corolla\n",
      "Year: 2020\n"
     ]
    }
   ],
   "source": [
    "#question2\n",
    "class Car:\n",
    "    def __init__(self, make, model, year):\n",
    "        self.make = make\n",
    "        self.model = model\n",
    "        self.year = year\n",
    "\n",
    "    def display_info(self):\n",
    "        print(f\"Make: {self.make}\")\n",
    "        print(f\"Model: {self.model}\")\n",
    "        print(f\"Year: {self.year}\")\n",
    "\n",
    "car1 = Car(\"Toyota\", \"Corolla\", 2020)\n",
    "car1.display_info()"
   ]
  },
  {
   "cell_type": "code",
   "execution_count": 15,
   "id": "56f843ad",
   "metadata": {},
   "outputs": [
    {
     "name": "stdout",
     "output_type": "stream",
     "text": [
      "Radius: 5\n",
      "Area: 78.53981633974483\n",
      "Circumference: 31.41592653589793\n"
     ]
    }
   ],
   "source": [
    "#question 3\n",
    "import math\n",
    "\n",
    "class Circle:\n",
    "    def __init__(self, radius):\n",
    "        self.radius = radius\n",
    "\n",
    "    def area(self):\n",
    "        return math.pi * (self.radius ** 2)\n",
    "\n",
    "    def circumference(self):\n",
    "        return 2 * math.pi * self.radius\n",
    "\n",
    "    def display_info(self):\n",
    "        print(f\"Radius: {self.radius}\")\n",
    "        print(f\"Area: {self.area()}\")\n",
    "        print(f\"Circumference: {self.circumference()}\")\n",
    "\n",
    "circle1 = Circle(5)\n",
    "circle1.display_info()"
   ]
  },
  {
   "cell_type": "code",
   "execution_count": 16,
   "id": "33447f36",
   "metadata": {},
   "outputs": [
    {
     "name": "stdout",
     "output_type": "stream",
     "text": [
      "Length: 30\n",
      "Width: 7\n",
      "Area: 210\n",
      "Perimeter: 74\n"
     ]
    }
   ],
   "source": [
    "#question 4\n",
    "class Rectangle:\n",
    "    def __init__(self, length, width):\n",
    "        self.length = length\n",
    "        self.width = width\n",
    "\n",
    "    def area(self):\n",
    "        return self.length * self.width\n",
    "\n",
    "    def perimeter(self):\n",
    "        return 2 * (self.length + self.width)\n",
    "\n",
    "    def display_info(self):\n",
    "        print(f\"Length: {self.length}\")\n",
    "        print(f\"Width: {self.width}\")\n",
    "        print(f\"Area: {self.area()}\")\n",
    "        print(f\"Perimeter: {self.perimeter()}\")\n",
    "\n",
    "rectangle1 = Rectangle(30, 7)\n",
    "rectangle1.display_info()\n"
   ]
  },
  {
   "cell_type": "code",
   "execution_count": 17,
   "id": "d601f9b6",
   "metadata": {},
   "outputs": [
    {
     "name": "stdout",
     "output_type": "stream",
     "text": [
      "Name: zaha\n",
      "Roll Number: 150\n",
      "Marks: [78, 90, 28, 99, 50]\n",
      "Average Marks: 69.0\n"
     ]
    }
   ],
   "source": [
    "#question 5\n",
    "class Student:\n",
    "    def __init__(self, name, roll_number, marks):\n",
    "        self.name = name\n",
    "        self.roll_number = roll_number\n",
    "        self.marks = marks  \n",
    "\n",
    "    def average_marks(self):\n",
    "        if len(self.marks) == 0:\n",
    "            return 0\n",
    "        return sum(self.marks) / len(self.marks)\n",
    "\n",
    "    def display_info(self):\n",
    "        print(f\"Name: {self.name}\")\n",
    "        print(f\"Roll Number: {self.roll_number}\")\n",
    "        print(f\"Marks: {self.marks}\")\n",
    "        print(f\"Average Marks: {self.average_marks()}\")\n",
    "\n",
    "student1 = Student(\"zaha\", 150, [78, 90, 28, 99, 50])\n",
    "student1.display_info()\n"
   ]
  },
  {
   "cell_type": "code",
   "execution_count": 18,
   "id": "72fa4a87",
   "metadata": {},
   "outputs": [
    {
     "name": "stdout",
     "output_type": "stream",
     "text": [
      "Object type: <class '__main__.Book'>\n",
      "Title: To Kill a Mockingbird\n",
      "Author: Harper Lee\n",
      "Publication Year: 1960\n"
     ]
    }
   ],
   "source": [
    "#question 6\n",
    "class Book:\n",
    "    def __init__(self, title, author, publication_year):\n",
    "        self.title = title\n",
    "        self.author = author\n",
    "        self.publication_year = publication_year\n",
    "\n",
    "    def __str__(self):\n",
    "        return f\"'{self.title}' by {self.author}, published in {self.publication_year}\"\n",
    "book1 = Book(\"To Kill a Mockingbird\", \"Harper Lee\", 1960)\n",
    "print(f\"Object type: {type(book1)}\")\n",
    "print(f\"Title: {book1.title}\")\n",
    "print(f\"Author: {book1.author}\")\n",
    "print(f\"Publication Year: {book1.publication_year}\")"
   ]
  },
  {
   "cell_type": "code",
   "execution_count": 19,
   "id": "4e9727db",
   "metadata": {},
   "outputs": [
    {
     "name": "stdout",
     "output_type": "stream",
     "text": [
      "Employee: John Doe, Designation: Software Engineer, Salary: 50000\n"
     ]
    }
   ],
   "source": [
    "#question 7\n",
    "class Employee:\n",
    "    def __init__(self, name, salary, designation):\n",
    "        self.name = name\n",
    "        self.salary = salary\n",
    "        self.designation = designation\n",
    "\n",
    "    def __str__(self):\n",
    "        return f\"Employee: {self.name}, Designation: {self.designation}, Salary: {self.salary}\"\n",
    "employee1 = Employee(\"John Doe\", 50000, \"Software Engineer\")\n",
    "print(employee1)  \n"
   ]
  },
  {
   "cell_type": "code",
   "execution_count": 20,
   "id": "a71b9848",
   "metadata": {},
   "outputs": [
    {
     "name": "stdout",
     "output_type": "stream",
     "text": [
      "Account holder: Alice, Account number: 123456789, Balance: 1000\n",
      "Deposited 500. New balance: 1500\n",
      "Withdrew 300. New balance: 1200\n",
      "Insufficient funds for this withdrawal.\n"
     ]
    }
   ],
   "source": [
    "class Bank:\n",
    "    def __init__(self, name, account_number, balance=0.0):\n",
    "        self.name = name\n",
    "        self.account_number = account_number\n",
    "        self.balance = balance\n",
    "\n",
    "    def deposit(self, amount):\n",
    "        if amount > 0:\n",
    "            self.balance += amount\n",
    "            print(f\"Deposited {amount}. New balance: {self.balance}\")\n",
    "        else:\n",
    "            print(\"Deposit amount must be positive.\")\n",
    "\n",
    "    def withdraw(self, amount):\n",
    "        if amount > 0:\n",
    "            if self.balance >= amount:\n",
    "                self.balance -= amount\n",
    "                print(f\"Withdrew {amount}. New balance: {self.balance}\")\n",
    "            else:\n",
    "                print(\"Insufficient funds for this withdrawal.\")\n",
    "        else:\n",
    "            print(\"Withdrawal amount must be positive.\")\n",
    "\n",
    "    def __str__(self):\n",
    "        return f\"Account holder: {self.name}, Account number: {self.account_number}, Balance: {self.balance}\"\n",
    "\n",
    "account1 = Bank(\"Alice\", \"123456789\", 1000)\n",
    "print(account1)\n",
    "account1.deposit(500)  \n",
    "account1.withdraw(300)  \n",
    "account1.withdraw(2000) "
   ]
  },
  {
   "cell_type": "code",
   "execution_count": null,
   "id": "b12ca60b",
   "metadata": {},
   "outputs": [],
   "source": []
  }
 ],
 "metadata": {
  "kernelspec": {
   "display_name": "Python 3 (ipykernel)",
   "language": "python",
   "name": "python3"
  },
  "language_info": {
   "codemirror_mode": {
    "name": "ipython",
    "version": 3
   },
   "file_extension": ".py",
   "mimetype": "text/x-python",
   "name": "python",
   "nbconvert_exporter": "python",
   "pygments_lexer": "ipython3",
   "version": "3.11.5"
  }
 },
 "nbformat": 4,
 "nbformat_minor": 5
}
